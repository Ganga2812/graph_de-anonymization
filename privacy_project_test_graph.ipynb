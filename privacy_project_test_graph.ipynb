{
 "cells": [
  {
   "cell_type": "code",
   "execution_count": 1,
   "id": "6467b0d0",
   "metadata": {},
   "outputs": [],
   "source": [
    "import networkx as nx\n",
    "import math\n",
    "import statistics"
   ]
  },
  {
   "cell_type": "code",
   "execution_count": 2,
   "id": "6d822c39",
   "metadata": {},
   "outputs": [
    {
     "name": "stdout",
     "output_type": "stream",
     "text": [
      "Name: \n",
      "Type: Graph\n",
      "Number of nodes: 8\n",
      "Number of edges: 9\n",
      "Average degree:   2.2500\n"
     ]
    }
   ],
   "source": [
    "G1 = nx.Graph()\n",
    "\n",
    "#This graph is based on the one from the powerpoint/pdf CH6\n",
    "\n",
    "G1.add_node(0)\n",
    "G1.add_node(1)\n",
    "G1.add_node(2)\n",
    "G1.add_node(3)\n",
    "G1.add_node(4)\n",
    "G1.add_node(5)\n",
    "G1.add_node(6)\n",
    "G1.add_node(7)\n",
    "\n",
    "G1.add_edge(0, 1)\n",
    "G1.add_edge(0, 5)\n",
    "G1.add_edge(1, 4)\n",
    "G1.add_edge(1, 5)\n",
    "G1.add_edge(1, 6)\n",
    "G1.add_edge(1, 7)\n",
    "G1.add_edge(2, 5)\n",
    "G1.add_edge(2, 6)\n",
    "G1.add_edge(3, 6)\n",
    "\n",
    "print(nx.info(G1))"
   ]
  },
  {
   "cell_type": "code",
   "execution_count": 3,
   "id": "09fed448",
   "metadata": {},
   "outputs": [
    {
     "name": "stdout",
     "output_type": "stream",
     "text": [
      "Name: \n",
      "Type: Graph\n",
      "Number of nodes: 7\n",
      "Number of edges: 8\n",
      "Average degree:   2.2857\n"
     ]
    }
   ],
   "source": [
    "G2 = nx.Graph()\n",
    "\n",
    "#This graph is based on the one from the powerpoint/pdf CH6\n",
    "\n",
    "G2.add_node(0)\n",
    "G2.add_node(1)\n",
    "G2.add_node(2)\n",
    "G2.add_node(3)\n",
    "G2.add_node(4)\n",
    "G2.add_node(5)\n",
    "G2.add_node(6)\n",
    "\n",
    "G2.add_edge(0, 5)\n",
    "G2.add_edge(0, 6)\n",
    "G2.add_edge(1, 2)\n",
    "G2.add_edge(1, 4)\n",
    "G2.add_edge(1, 5)\n",
    "G2.add_edge(2, 3)\n",
    "G2.add_edge(2, 4)\n",
    "G2.add_edge(4, 5)\n",
    "\n",
    "print(nx.info(G2))"
   ]
  },
  {
   "cell_type": "code",
   "execution_count": 4,
   "id": "a6316d76",
   "metadata": {},
   "outputs": [],
   "source": [
    "arrayG1 = list(nx.nodes(G1))\n",
    "arrayG2 = list(nx.nodes(G2))\n",
    "seedPairG1 = [0, 5, 6]\n",
    "seedPairG2 = [6, 5, 4]\n",
    "nonMatchedG1 = [x for x in arrayG1 if (x not in seedPairG1)]\n",
    "nonMatchedG2 = [x for x in arrayG2 if (x not in seedPairG2)]"
   ]
  },
  {
   "cell_type": "code",
   "execution_count": 5,
   "id": "2b71d21e",
   "metadata": {},
   "outputs": [
    {
     "name": "stdout",
     "output_type": "stream",
     "text": [
      "Node V = 1\n",
      "Scores = [0.5163977794943222, 0.2581988897471611, 0.0]\n",
      "Std = 0.24412310370744075\n",
      "Max1 = 0.6324555320336759\n",
      "Max2 = 0.5163977794943222\n",
      "ECCE = ( 0.6324555320336759 - 0.5163977794943222 ) / 0.24412310370744075 = 0.4754066730137853\n",
      "ECCE = 0.4754066730137853\n",
      " \n",
      "-----\n",
      " \n",
      "Node V = 2\n",
      "Scores = [0.8164965809277259, 0.40824829046386296, 0.0]\n",
      "Std = 0.3859925185925041\n",
      "Max1 = 0.9999999999999998\n",
      "Max2 = 0.8164965809277259\n",
      "ECCE = ( 0.9999999999999998 - 0.8164965809277259 ) / 0.3859925185925041 = 0.4754066730137848\n",
      "ECCE = 0.4754066730137848\n",
      " \n",
      "-----\n",
      " \n",
      "Node V = 3\n",
      "Scores = [1.1547005383792517, 0.5773502691896258, 0.0]\n",
      "Std = 0.5458758547680684\n",
      "Max1 = 1.414213562373095\n",
      "Max2 = 1.1547005383792517\n",
      "ECCE = ( 1.414213562373095 - 1.1547005383792517 ) / 0.5458758547680684 = 0.47540667301378453\n",
      "ECCE = 0.47540667301378453\n",
      " \n",
      "-----\n",
      " \n",
      "Node V = 4\n",
      "Scores = [1.1547005383792517, 0.5773502691896258, 0.0]\n",
      "Std = 0.5458758547680684\n",
      "Max1 = 1.414213562373095\n",
      "Max2 = 1.1547005383792517\n",
      "ECCE = ( 1.414213562373095 - 1.1547005383792517 ) / 0.5458758547680684 = 0.47540667301378453\n",
      "ECCE = 0.47540667301378453\n",
      " \n",
      "-----\n",
      " \n",
      "Node V = 7\n",
      "Scores = [1.1547005383792517, 0.5773502691896258, 0.0]\n",
      "Std = 0.5458758547680684\n",
      "Max1 = 1.414213562373095\n",
      "Max2 = 1.1547005383792517\n",
      "ECCE = ( 1.414213562373095 - 1.1547005383792517 ) / 0.5458758547680684 = 0.47540667301378453\n",
      "ECCE = 0.47540667301378453\n",
      " \n",
      "-----\n",
      " \n"
     ]
    }
   ],
   "source": [
    "for x in nonMatchedG1:\n",
    "    scoreList = []\n",
    "    degreeOfV = len(list(nx.neighbors(G1, x)))\n",
    "    for y in nonMatchedG2:\n",
    "        count = 0\n",
    "        degreeOfU = len(list(nx.neighbors(G2, y)))\n",
    "        neighbors = list(nx.neighbors(G2, y))\n",
    "        for nodeU in neighbors:\n",
    "            for z in seedPairG2:\n",
    "                if nodeU == z:\n",
    "                    count = count + 1\n",
    "        score = (count)/(math.sqrt(degreeOfV) * math.sqrt(degreeOfU))\n",
    "        scoreList.append(score)\n",
    "    std = statistics.pstdev(scoreList)\n",
    "    max1 = max(scoreList)\n",
    "    scoreList.remove(max1)\n",
    "    max2 = max(scoreList)\n",
    "    ecce = (max1 - max2)/(std)\n",
    "    print(\"Node V =\", x)\n",
    "    print(\"Scores =\", scoreList)\n",
    "    print(\"Std =\", std)\n",
    "    print(\"Max1 =\", max1)\n",
    "    print(\"Max2 =\", max2)\n",
    "    print(\"ECCE = (\", max1, \"-\", max2, \") /\", std, \"=\", ecce)\n",
    "    print(\"ECCE =\", ecce)\n",
    "    #We now have the ecce.\n",
    "    #But what's the threshold? If ecce > threshold match node V (y) and U (x).\n",
    "    print(\" \")\n",
    "    print(\"-----\")\n",
    "    print(\" \")"
   ]
  },
  {
   "cell_type": "code",
   "execution_count": null,
   "id": "590a8ce9",
   "metadata": {},
   "outputs": [],
   "source": []
  }
 ],
 "metadata": {
  "kernelspec": {
   "display_name": "Python 3",
   "language": "python",
   "name": "python3"
  },
  "language_info": {
   "codemirror_mode": {
    "name": "ipython",
    "version": 3
   },
   "file_extension": ".py",
   "mimetype": "text/x-python",
   "name": "python",
   "nbconvert_exporter": "python",
   "pygments_lexer": "ipython3",
   "version": "3.8.8"
  }
 },
 "nbformat": 4,
 "nbformat_minor": 5
}
